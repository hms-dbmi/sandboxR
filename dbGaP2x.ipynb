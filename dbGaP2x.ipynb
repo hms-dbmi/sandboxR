{
 "cells": [
  {
   "cell_type": "markdown",
   "metadata": {},
   "source": [
    "# Using dbGaP2x, R package to explore and sort phenotypics data from dbGap"
   ]
  },
  {
   "cell_type": "markdown",
   "metadata": {},
   "source": [
    "## Introduction\n",
    "### Load the package"
   ]
  },
  {
   "cell_type": "code",
   "execution_count": 1,
   "metadata": {
    "collapsed": false
   },
   "outputs": [
    {
     "name": "stderr",
     "output_type": "stream",
     "text": [
      "Downloading GitHub repo hms-dbmi/sandboxR@master\n",
      "from URL https://api.github.com/repos/hms-dbmi/sandboxR/zipball/master\n",
      "Installing sandboxR\n",
      "'/opt/conda/lib/R/bin/R' --no-site-file --no-environ --no-save --no-restore  \\\n",
      "  --quiet CMD INSTALL  \\\n",
      "  '/tmp/RtmpkPeAnI/devtools277382b9326/hms-dbmi-sandboxR-97f6186'  \\\n",
      "  --library='/opt/conda/lib/R/library' --install-tests \n",
      "\n"
     ]
    }
   ],
   "source": [
    "devtools::install_github(\"hms-dbmi/sandboxR\", force = TRUE)\n",
    "library(sandboxR)"
   ]
  },
  {
   "cell_type": "markdown",
   "metadata": {},
   "source": [
    "### Get the list of the function for this new package"
   ]
  },
  {
   "cell_type": "code",
   "execution_count": 2,
   "metadata": {
    "collapsed": false
   },
   "outputs": [
    {
     "data": {
      "text/plain": [
       "browse.dbgap : function (phs, jupyter = FALSE)  \n",
       "browse.study : function (phs, jupyter = FALSE)  \n",
       "consent.groups : function (phs)  \n",
       "datatables.dict : function (phs)  \n",
       "dbgap.data_dict : function (xml, dest)  \n",
       "dbgap.decrypt : function (file, key = FALSE)  \n",
       "dbgap.download : function (krt, key = FALSE)  \n",
       "dbgap.expand : function (phs, files, destination, study_name = phs)  \n",
       "dl.nhanes : function (destination = getwd())  \n",
       "is.parent : function (phs)  \n",
       "list.oldmaps : function (mappath)  \n",
       "look.oldmap : function (mappath, old)  \n",
       "MapToTree : function (mappath)  \n",
       "n.pop : function (phs, consentgroups = TRUE, gender = TRUE)  \n",
       "n.tables : function (phs)  \n",
       "n.variables : function (phs)  \n",
       "parent.study : function (phs)  \n",
       "phs.version : function (phs)  \n",
       "readytoload : function (mappath, short_name, long_name, phs)  \n",
       "recover.map : function (oldcsv, mappath)  \n",
       "search.dbgap : function (term, jupyter = FALSE)  \n",
       "study.name : function (phs)  \n",
       "sub.study : function (phs)  \n",
       "table.expand : function (study_name, files, destination = getwd())  \n",
       "TreeToMap : function (mappath)  \n",
       "variables.dict : function (phs)  "
      ]
     },
     "metadata": {},
     "output_type": "display_data"
    }
   ],
   "source": [
    "lsf.str(\"package:sandboxR\")"
   ]
  },
  {
   "cell_type": "markdown",
   "metadata": {},
   "source": [
    "## 1. Search for dbGap studies\n",
    "### Let's try to explore the \"Jackson Heart Study\" cohort that exists on dbGap.\n",
    "###### The dbGap search engine can be tricky, that's why we created the function \"browse.dbgap\", who helps you find the studies related to the term that you search on your web browser.\n",
    "Note that if you run this function in a jupyterhub environment, it will return a url since jupyterhub doesn't have access to your local browser."
   ]
  },
  {
   "cell_type": "code",
   "execution_count": 3,
   "metadata": {
    "collapsed": false
   },
   "outputs": [
    {
     "data": {
      "text/html": [
       "'https://www.ncbi.nlm.nih.gov/gap/?term=Jackson%5BStudy+Name%5D'"
      ],
      "text/latex": [
       "'https://www.ncbi.nlm.nih.gov/gap/?term=Jackson\\%5BStudy+Name\\%5D'"
      ],
      "text/markdown": [
       "'https://www.ncbi.nlm.nih.gov/gap/?term=Jackson%5BStudy+Name%5D'"
      ],
      "text/plain": [
       "[1] \"https://www.ncbi.nlm.nih.gov/gap/?term=Jackson%5BStudy+Name%5D\""
      ]
     },
     "metadata": {},
     "output_type": "display_data"
    }
   ],
   "source": [
    "search.dbgap(\"Jackson\", jupyter = TRUE)"
   ]
  },
  {
   "cell_type": "markdown",
   "metadata": {},
   "source": [
    "#### dbGap returns the list of the studies related to your term. As you see, there are 6 studies associated with the \"Jackson Heart Study\" (JHS). One of these study is the main one aka the \"parent study\", whereas the other ones are substudies. In this case, phs000286.v5.p1 is the parent study. Firslty, we can use the phs.version() function in order to be sure that this is the latest version of the study. We can abbreviate the phs name by giving just the digit, or we can use the full dbGap id."
   ]
  },
  {
   "cell_type": "code",
   "execution_count": 4,
   "metadata": {
    "collapsed": false
   },
   "outputs": [
    {
     "data": {
      "text/html": [
       "'phs000286.v5.p1'"
      ],
      "text/latex": [
       "'phs000286.v5.p1'"
      ],
      "text/markdown": [
       "'phs000286.v5.p1'"
      ],
      "text/plain": [
       "[1] \"phs000286.v5.p1\""
      ]
     },
     "metadata": {},
     "output_type": "display_data"
    }
   ],
   "source": [
    "phs.version(\"286\")"
   ]
  },
  {
   "cell_type": "markdown",
   "metadata": {},
   "source": [
    "##### The is.parent() function is usefull to test if a study is a parent study or a substudy"
   ]
  },
  {
   "cell_type": "code",
   "execution_count": 5,
   "metadata": {
    "collapsed": false
   },
   "outputs": [
    {
     "data": {
      "text/html": [
       "TRUE"
      ],
      "text/latex": [
       "TRUE"
      ],
      "text/markdown": [
       "TRUE"
      ],
      "text/plain": [
       "[1] TRUE"
      ]
     },
     "metadata": {},
     "output_type": "display_data"
    },
    {
     "data": {
      "text/html": [
       "FALSE"
      ],
      "text/latex": [
       "FALSE"
      ],
      "text/markdown": [
       "FALSE"
      ],
      "text/plain": [
       "[1] FALSE"
      ]
     },
     "metadata": {},
     "output_type": "display_data"
    }
   ],
   "source": [
    "is.parent(\"000286\") # JHS main cohort\n",
    "is.parent(\"phs499\") # substudy \"CARe\" for JHS"
   ]
  },
  {
   "cell_type": "markdown",
   "metadata": {},
   "source": [
    "#### If you don't know the parent study of a substudy, try parent.study()"
   ]
  },
  {
   "cell_type": "code",
   "execution_count": 6,
   "metadata": {
    "collapsed": false
   },
   "outputs": [
    {
     "data": {
      "text/html": [
       "<ol class=list-inline>\n",
       "\t<li>'phs000286.v5.p1'</li>\n",
       "\t<li>'Jackson Heart Study (JHS) Cohort'</li>\n",
       "</ol>\n"
      ],
      "text/latex": [
       "\\begin{enumerate*}\n",
       "\\item 'phs000286.v5.p1'\n",
       "\\item 'Jackson Heart Study (JHS) Cohort'\n",
       "\\end{enumerate*}\n"
      ],
      "text/markdown": [
       "1. 'phs000286.v5.p1'\n",
       "2. 'Jackson Heart Study (JHS) Cohort'\n",
       "\n",
       "\n"
      ],
      "text/plain": [
       "[1] \"phs000286.v5.p1\"                  \"Jackson Heart Study (JHS) Cohort\""
      ]
     },
     "metadata": {},
     "output_type": "display_data"
    }
   ],
   "source": [
    "parent.study(\"phs000499\")"
   ]
  },
  {
   "cell_type": "markdown",
   "metadata": {},
   "source": [
    "##### On the other side, use sub.study() to get the name and IDs of the substudies from a parent one"
   ]
  },
  {
   "cell_type": "code",
   "execution_count": 7,
   "metadata": {
    "collapsed": false
   },
   "outputs": [
    {
     "data": {
      "text/html": [
       "<table>\n",
       "<thead><tr><th scope=col>phs</th><th scope=col>name</th></tr></thead>\n",
       "<tbody>\n",
       "\t<tr><td>phs000499.v3.p1                                                     </td><td>NHLBI Jackson Heart Study Candidate Gene Association Resource (CARe)</td></tr>\n",
       "\t<tr><td>phs000498.v3.p1                                                     </td><td>Jackson Heart Study Allelic Spectrum Project                        </td></tr>\n",
       "\t<tr><td>phs000402.v3.p1                                                     </td><td>NHLBI GO-ESP: Heart Cohorts Exome Sequencing Project (JHS)          </td></tr>\n",
       "\t<tr><td>phs001098.v1.p1                                                     </td><td>T2D-GENES Multi-Ethnic Exome Sequencing Study: Jackson Heart Study  </td></tr>\n",
       "</tbody>\n",
       "</table>\n"
      ],
      "text/latex": [
       "\\begin{tabular}{ll}\n",
       " phs & name\\\\\n",
       "\\hline\n",
       "\t phs000499.v3.p1                                                      & NHLBI Jackson Heart Study Candidate Gene Association Resource (CARe)\\\\\n",
       "\t phs000498.v3.p1                                                      & Jackson Heart Study Allelic Spectrum Project                        \\\\\n",
       "\t phs000402.v3.p1                                                      & NHLBI GO-ESP: Heart Cohorts Exome Sequencing Project (JHS)          \\\\\n",
       "\t phs001098.v1.p1                                                      & T2D-GENES Multi-Ethnic Exome Sequencing Study: Jackson Heart Study  \\\\\n",
       "\\end{tabular}\n"
      ],
      "text/markdown": [
       "\n",
       "phs | name | \n",
       "|---|---|---|---|\n",
       "| phs000499.v3.p1                                                      | NHLBI Jackson Heart Study Candidate Gene Association Resource (CARe) | \n",
       "| phs000498.v3.p1                                                      | Jackson Heart Study Allelic Spectrum Project                         | \n",
       "| phs000402.v3.p1                                                      | NHLBI GO-ESP: Heart Cohorts Exome Sequencing Project (JHS)           | \n",
       "| phs001098.v1.p1                                                      | T2D-GENES Multi-Ethnic Exome Sequencing Study: Jackson Heart Study   | \n",
       "\n",
       "\n"
      ],
      "text/plain": [
       "     phs            \n",
       "[1,] phs000499.v3.p1\n",
       "[2,] phs000498.v3.p1\n",
       "[3,] phs000402.v3.p1\n",
       "[4,] phs001098.v1.p1\n",
       "     name                                                                \n",
       "[1,] NHLBI Jackson Heart Study Candidate Gene Association Resource (CARe)\n",
       "[2,] Jackson Heart Study Allelic Spectrum Project                        \n",
       "[3,] NHLBI GO-ESP: Heart Cohorts Exome Sequencing Project (JHS)          \n",
       "[4,] T2D-GENES Multi-Ethnic Exome Sequencing Study: Jackson Heart Study  "
      ]
     },
     "metadata": {},
     "output_type": "display_data"
    }
   ],
   "source": [
    "sub.study(\"286\")"
   ]
  },
  {
   "cell_type": "markdown",
   "metadata": {},
   "source": [
    "##### If you want to get the name of a study from its dbGap id, use study.name()"
   ]
  },
  {
   "cell_type": "code",
   "execution_count": 8,
   "metadata": {
    "collapsed": false
   },
   "outputs": [
    {
     "data": {
      "text/html": [
       "'Jackson Heart Study (JHS) Cohort'"
      ],
      "text/latex": [
       "'Jackson Heart Study (JHS) Cohort'"
      ],
      "text/markdown": [
       "'Jackson Heart Study (JHS) Cohort'"
      ],
      "text/plain": [
       "[1] \"Jackson Heart Study (JHS) Cohort\""
      ]
     },
     "metadata": {},
     "output_type": "display_data"
    }
   ],
   "source": [
    "study.name(\"286\")"
   ]
  },
  {
   "cell_type": "markdown",
   "metadata": {},
   "source": [
    "##### Finally, you can watch your study on dbGap with browse.dbgap().\n",
    "##### If a website exists for this study, you can browse it using browse.study()"
   ]
  },
  {
   "cell_type": "code",
   "execution_count": 9,
   "metadata": {
    "collapsed": false
   },
   "outputs": [
    {
     "data": {
      "text/html": [
       "'https://www.ncbi.nlm.nih.gov/projects/gap/cgi-bin/study.cgi?study_id=phs000286.v5.p1'"
      ],
      "text/latex": [
       "'https://www.ncbi.nlm.nih.gov/projects/gap/cgi-bin/study.cgi?study\\_id=phs000286.v5.p1'"
      ],
      "text/markdown": [
       "'https://www.ncbi.nlm.nih.gov/projects/gap/cgi-bin/study.cgi?study_id=phs000286.v5.p1'"
      ],
      "text/plain": [
       "[1] \"https://www.ncbi.nlm.nih.gov/projects/gap/cgi-bin/study.cgi?study_id=phs000286.v5.p1\""
      ]
     },
     "metadata": {},
     "output_type": "display_data"
    },
    {
     "data": {
      "text/html": [
       "'https://www.jacksonheartstudy.org'"
      ],
      "text/latex": [
       "'https://www.jacksonheartstudy.org'"
      ],
      "text/markdown": [
       "'https://www.jacksonheartstudy.org'"
      ],
      "text/plain": [
       "[1] \"https://www.jacksonheartstudy.org\""
      ]
     },
     "metadata": {},
     "output_type": "display_data"
    }
   ],
   "source": [
    "browse.dbgap(\"286\", jupyter = TRUE)\n",
    "browse.study(\"286\", jupyter = TRUE)"
   ]
  },
  {
   "cell_type": "markdown",
   "metadata": {},
   "source": [
    "## 2. Explore the characteristics of your study\n",
    "##### For each dbGap study, there can be multiple consent groups that will have there specificities. Use consent.groups to know the number and the name of the consent groups in the study that you are exploring. Let's keep focusing on JHS."
   ]
  },
  {
   "cell_type": "code",
   "execution_count": 10,
   "metadata": {
    "collapsed": false
   },
   "outputs": [
    {
     "data": {
      "text/html": [
       "<table>\n",
       "<thead><tr><th></th><th scope=col>shortName</th><th scope=col>longName</th></tr></thead>\n",
       "<tbody>\n",
       "\t<tr><th scope=row>0</th><td>NRUP                                                                                                                                                                             </td><td>Subjects did not participate in the study, did not complete a consent document and are included only for the pedigree structure and/or genotype controls, such as HapMap subjects</td></tr>\n",
       "\t<tr><th scope=row>1</th><td>HMB-IRB-NPU                                                                                                                                                                      </td><td>Health/Medical/Biomedical (IRB, NPU)                                                                                                                                             </td></tr>\n",
       "\t<tr><th scope=row>2</th><td>DS-FDO-IRB-NPU                                                                                                                                                                   </td><td>Disease-Specific (Focused Disease Only, IRB, NPU)                                                                                                                                </td></tr>\n",
       "\t<tr><th scope=row>3</th><td>HMB-IRB                                                                                                                                                                          </td><td>Health/Medical/Biomedical (IRB)                                                                                                                                                  </td></tr>\n",
       "\t<tr><th scope=row>4</th><td>DS-FDO-IRB                                                                                                                                                                       </td><td>Disease-Specific (Focused Disease Only, IRB)                                                                                                                                     </td></tr>\n",
       "</tbody>\n",
       "</table>\n"
      ],
      "text/latex": [
       "\\begin{tabular}{r|ll}\n",
       "  & shortName & longName\\\\\n",
       "\\hline\n",
       "\t0 & NRUP                                                                                                                                                                              & Subjects did not participate in the study, did not complete a consent document and are included only for the pedigree structure and/or genotype controls, such as HapMap subjects\\\\\n",
       "\t1 & HMB-IRB-NPU                                                                                                                                                                       & Health/Medical/Biomedical (IRB, NPU)                                                                                                                                             \\\\\n",
       "\t2 & DS-FDO-IRB-NPU                                                                                                                                                                    & Disease-Specific (Focused Disease Only, IRB, NPU)                                                                                                                                \\\\\n",
       "\t3 & HMB-IRB                                                                                                                                                                           & Health/Medical/Biomedical (IRB)                                                                                                                                                  \\\\\n",
       "\t4 & DS-FDO-IRB                                                                                                                                                                        & Disease-Specific (Focused Disease Only, IRB)                                                                                                                                     \\\\\n",
       "\\end{tabular}\n"
      ],
      "text/markdown": [
       "\n",
       "| <!--/--> | shortName | longName | \n",
       "|---|---|---|---|---|\n",
       "| 0 | NRUP                                                                                                                                                                              | Subjects did not participate in the study, did not complete a consent document and are included only for the pedigree structure and/or genotype controls, such as HapMap subjects | \n",
       "| 1 | HMB-IRB-NPU                                                                                                                                                                       | Health/Medical/Biomedical (IRB, NPU)                                                                                                                                              | \n",
       "| 2 | DS-FDO-IRB-NPU                                                                                                                                                                    | Disease-Specific (Focused Disease Only, IRB, NPU)                                                                                                                                 | \n",
       "| 3 | HMB-IRB                                                                                                                                                                           | Health/Medical/Biomedical (IRB)                                                                                                                                                   | \n",
       "| 4 | DS-FDO-IRB                                                                                                                                                                        | Disease-Specific (Focused Disease Only, IRB)                                                                                                                                      | \n",
       "\n",
       "\n"
      ],
      "text/plain": [
       "  shortName     \n",
       "0 NRUP          \n",
       "1 HMB-IRB-NPU   \n",
       "2 DS-FDO-IRB-NPU\n",
       "3 HMB-IRB       \n",
       "4 DS-FDO-IRB    \n",
       "  longName                                                                                                                                                                         \n",
       "0 Subjects did not participate in the study, did not complete a consent document and are included only for the pedigree structure and/or genotype controls, such as HapMap subjects\n",
       "1 Health/Medical/Biomedical (IRB, NPU)                                                                                                                                             \n",
       "2 Disease-Specific (Focused Disease Only, IRB, NPU)                                                                                                                                \n",
       "3 Health/Medical/Biomedical (IRB)                                                                                                                                                  \n",
       "4 Disease-Specific (Focused Disease Only, IRB)                                                                                                                                     "
      ]
     },
     "metadata": {},
     "output_type": "display_data"
    }
   ],
   "source": [
    "JHS <- \"phs000286\"\n",
    "consent.groups(JHS)"
   ]
  },
  {
   "cell_type": "markdown",
   "metadata": {},
   "source": [
    "##### Use n.pop() to know the number of patient included in each groups"
   ]
  },
  {
   "cell_type": "code",
   "execution_count": 11,
   "metadata": {
    "collapsed": false
   },
   "outputs": [
    {
     "data": {
      "text/html": [
       "<table>\n",
       "<thead><tr><th scope=col>consent_group</th><th scope=col>male</th><th scope=col>female</th><th scope=col>total</th></tr></thead>\n",
       "<tbody>\n",
       "\t<tr><td>HMB-IRB       </td><td>1860          </td><td>2504          </td><td>4549          </td></tr>\n",
       "\t<tr><td>HMB-IRB-NPU   </td><td> 264          </td><td> 505          </td><td> 802          </td></tr>\n",
       "\t<tr><td>DS-FDO-IRB-NPU</td><td>  63          </td><td> 107          </td><td> 180          </td></tr>\n",
       "\t<tr><td>HMB-IRB       </td><td> 784          </td><td>1232          </td><td>2131          </td></tr>\n",
       "\t<tr><td>DS-FDO-IRB    </td><td> 173          </td><td> 289          </td><td> 489          </td></tr>\n",
       "\t<tr><td>TOTAL         </td><td>3144          </td><td>4637          </td><td>8151          </td></tr>\n",
       "</tbody>\n",
       "</table>\n"
      ],
      "text/latex": [
       "\\begin{tabular}{r|llll}\n",
       " consent\\_group & male & female & total\\\\\n",
       "\\hline\n",
       "\t HMB-IRB        & 1860           & 2504           & 4549          \\\\\n",
       "\t HMB-IRB-NPU    &  264           &  505           &  802          \\\\\n",
       "\t DS-FDO-IRB-NPU &   63           &  107           &  180          \\\\\n",
       "\t HMB-IRB        &  784           & 1232           & 2131          \\\\\n",
       "\t DS-FDO-IRB     &  173           &  289           &  489          \\\\\n",
       "\t TOTAL          & 3144           & 4637           & 8151          \\\\\n",
       "\\end{tabular}\n"
      ],
      "text/markdown": [
       "\n",
       "consent_group | male | female | total | \n",
       "|---|---|---|---|---|---|\n",
       "| HMB-IRB        | 1860           | 2504           | 4549           | \n",
       "| HMB-IRB-NPU    |  264           |  505           |  802           | \n",
       "| DS-FDO-IRB-NPU |   63           |  107           |  180           | \n",
       "| HMB-IRB        |  784           | 1232           | 2131           | \n",
       "| DS-FDO-IRB     |  173           |  289           |  489           | \n",
       "| TOTAL          | 3144           | 4637           | 8151           | \n",
       "\n",
       "\n"
      ],
      "text/plain": [
       "  consent_group  male female total\n",
       "1 HMB-IRB        1860 2504   4549 \n",
       "2 HMB-IRB-NPU     264  505    802 \n",
       "3 DS-FDO-IRB-NPU   63  107    180 \n",
       "4 HMB-IRB         784 1232   2131 \n",
       "5 DS-FDO-IRB      173  289    489 \n",
       "6 TOTAL          3144 4637   8151 "
      ]
     },
     "metadata": {},
     "output_type": "display_data"
    },
    {
     "data": {
      "text/html": [
       "8151"
      ],
      "text/latex": [
       "8151"
      ],
      "text/markdown": [
       "8151"
      ],
      "text/plain": [
       "[1] 8151"
      ]
     },
     "metadata": {},
     "output_type": "display_data"
    }
   ],
   "source": [
    "n.pop(JHS)\n",
    "n.pop(JHS, consentgroups = FALSE)"
   ]
  },
  {
   "cell_type": "markdown",
   "metadata": {},
   "source": [
    "##### Use n.tables() and n.variables() to get the number of datatables in your study and the total number of variables\n",
    "(n.variables goes into the study files to count the actual number of variables)"
   ]
  },
  {
   "cell_type": "code",
   "execution_count": 12,
   "metadata": {
    "collapsed": false
   },
   "outputs": [
    {
     "data": {
      "text/html": [
       "66"
      ],
      "text/latex": [
       "66"
      ],
      "text/markdown": [
       "66"
      ],
      "text/plain": [
       "[1] 66"
      ]
     },
     "metadata": {},
     "output_type": "display_data"
    },
    {
     "data": {
      "text/html": [
       "4326"
      ],
      "text/latex": [
       "4326"
      ],
      "text/markdown": [
       "4326"
      ],
      "text/plain": [
       "[1] 4326"
      ]
     },
     "metadata": {},
     "output_type": "display_data"
    }
   ],
   "source": [
    "n.tables(JHS)\n",
    "n.variables(JHS)"
   ]
  },
  {
   "cell_type": "markdown",
   "metadata": {},
   "source": [
    "#### datatables.dict() will return a data frame with the datatables IDs (phtxxxxxx) and description of your study"
   ]
  },
  {
   "cell_type": "code",
   "execution_count": 13,
   "metadata": {
    "collapsed": false
   },
   "outputs": [
    {
     "data": {
      "text/html": [
       "<table>\n",
       "<thead><tr><th scope=col>pht</th><th scope=col>dt_study_name</th><th scope=col>dt_label</th></tr></thead>\n",
       "<tbody>\n",
       "\t<tr><td>pht002539.v2                                                                                                                                                                                                                                                                                                                                                                                                                                                                                                                                                                                                                                                                                                                                                                                                                                                                                                                                                                                 </td><td>ESP_HeartGO_JHS_Subject_Phenotypes                                                                                                                                                                                                                                                                                                                                                                                                                                                                                                                                                                                                                                                                                                                                                                                                                                                                                                                                                           </td><td>Subject ID, ESP cohort, target capture used in sequencing, sequence center, race, sex, affection status, family medical history of stroke, participant medical history of asthma and COPD, ankle brachial index, artery disease status, atrioventricular block, blood pressure, body weight, height and BMI, coronary artery calcium, EKG, Framingham Risk Score, intimal-medial thickness, laboratory tests including basophils, eosinophils, neutrophils, lymphocytes, lymphocytes, blood fasting insulin and glucose, level of C-reactive protein, LDL, HDL, triglycerides, uric acid, urinary creatinine, serum creatinine, menopause, MI, FEV1, FVC, stroke status, type 2 diabetes, Wolff-Parkinson-White pattern, hormone replacement therapy, and smoking status of subjects participated in the \"National Heart Lung and Blood Institute (NHLBI) GO-ESP: Heart Cohorts Component of the Exome Sequencing Project (JHS)\" sub study of the \"Jackson Heart Study (JHS) Cohort\" project.</td></tr>\n",
       "\t<tr><td>pht001948.v1                                                                                                                                                                                                                                                                                                                                                                                                                                                                                                                                                                                                                                                                                                                                                                                                                                                                                                                                                                                 </td><td>CSTA                                                                                                                                                                                                                                                                                                                                                                                                                                                                                                                                                                                                                                                                                                                                                                                                                                                                                                                                                                                         </td><td>Agatston score of all coronary section among participants of the Jackson Heart Study including adult 35-84 years old African Americans.                                                                                                                                                                                                                                                                                                                                                                                                                                                                                                                                                                                                                                                                                                                                                                                                                                                      </td></tr>\n",
       "\t<tr><td>pht001947.v1                                                                                                                                                                                                                                                                                                                                                                                                                                                                                                                                                                                                                                                                                                                                                                                                                                                                                                                                                                                 </td><td>CSIA                                                                                                                                                                                                                                                                                                                                                                                                                                                                                                                                                                                                                                                                                                                                                                                                                                                                                                                                                                                         </td><td>Approach to life B. Life style among participants of the Jackson Heart Study including adult 35-84 years old African Americans.                                                                                                                                                                                                                                                                                                                                                                                                                                                                                                                                                                                                                                                                                                                                                                                                                                                              </td></tr>\n",
       "\t<tr><td>pht001968.v1                                                                                                                                                                                                                                                                                                                                                                                                                                                                                                                                                                                                                                                                                                                                                                                                                                                                                                                                                                                 </td><td>PPAA                                                                                                                                                                                                                                                                                                                                                                                                                                                                                                                                                                                                                                                                                                                                                                                                                                                                                                                                                                                         </td><td>Post physical activity monitoring among participants of the Jackson Heart Study including adult 35-84 years old African Americans.                                                                                                                                                                                                                                                                                                                                                                                                                                                                                                                                                                                                                                                                                                                                                                                                                                                           </td></tr>\n",
       "\t<tr><td>pht001955.v1                                                                                                                                                                                                                                                                                                                                                                                                                                                                                                                                                                                                                                                                                                                                                                                                                                                                                                                                                                                 </td><td>ECHA                                                                                                                                                                                                                                                                                                                                                                                                                                                                                                                                                                                                                                                                                                                                                                                                                                                                                                                                                                                         </td><td>Echocardiographic abnormalities among participants of the Jackson Heart Study including adult 35-84 years old African Americans.                                                                                                                                                                                                                                                                                                                                                                                                                                                                                                                                                                                                                                                                                                                                                                                                                                                             </td></tr>\n",
       "\t<tr><td>pht001952.v1                                                                                                                                                                                                                                                                                                                                                                                                                                                                                                                                                                                                                                                                                                                                                                                                                                                                                                                                                                                 </td><td>DPASS_DIET1                                                                                                                                                                                                                                                                                                                                                                                                                                                                                                                                                                                                                                                                                                                                                                                                                                                                                                                                                                                  </td><td>Dietary data (DPASS) among participants of the Jackson Heart Study including adult 35-84 years old African Americans.                                                                                                                                                                                                                                                                                                                                                                                                                                                                                                                                                                                                                                                                                                                                                                                                                                                                        </td></tr>\n",
       "</tbody>\n",
       "</table>\n"
      ],
      "text/latex": [
       "\\begin{tabular}{r|lll}\n",
       " pht & dt\\_study\\_name & dt\\_label\\\\\n",
       "\\hline\n",
       "\t pht002539.v2                                                                                                                                                                                                                                                                                                                                                                                                                                                                                                                                                                                                                                                                                                                                                                                                                                                                                                                                                                                  & ESP\\_HeartGO\\_JHS\\_Subject\\_Phenotypes                                                                                                                                                                                                                                                                                                                                                                                                                                                                                                                                                                                                                                                                                                                                                                                                                                                                                                                                                    & Subject ID, ESP cohort, target capture used in sequencing, sequence center, race, sex, affection status, family medical history of stroke, participant medical history of asthma and COPD, ankle brachial index, artery disease status, atrioventricular block, blood pressure, body weight, height and BMI, coronary artery calcium, EKG, Framingham Risk Score, intimal-medial thickness, laboratory tests including basophils, eosinophils, neutrophils, lymphocytes, lymphocytes, blood fasting insulin and glucose, level of C-reactive protein, LDL, HDL, triglycerides, uric acid, urinary creatinine, serum creatinine, menopause, MI, FEV1, FVC, stroke status, type 2 diabetes, Wolff-Parkinson-White pattern, hormone replacement therapy, and smoking status of subjects participated in the \"National Heart Lung and Blood Institute (NHLBI) GO-ESP: Heart Cohorts Component of the Exome Sequencing Project (JHS)\" sub study of the \"Jackson Heart Study (JHS) Cohort\" project.\\\\\n",
       "\t pht001948.v1                                                                                                                                                                                                                                                                                                                                                                                                                                                                                                                                                                                                                                                                                                                                                                                                                                                                                                                                                                                  & CSTA                                                                                                                                                                                                                                                                                                                                                                                                                                                                                                                                                                                                                                                                                                                                                                                                                                                                                                                                                                                          & Agatston score of all coronary section among participants of the Jackson Heart Study including adult 35-84 years old African Americans.                                                                                                                                                                                                                                                                                                                                                                                                                                                                                                                                                                                                                                                                                                                                                                                                                                                      \\\\\n",
       "\t pht001947.v1                                                                                                                                                                                                                                                                                                                                                                                                                                                                                                                                                                                                                                                                                                                                                                                                                                                                                                                                                                                  & CSIA                                                                                                                                                                                                                                                                                                                                                                                                                                                                                                                                                                                                                                                                                                                                                                                                                                                                                                                                                                                          & Approach to life B. Life style among participants of the Jackson Heart Study including adult 35-84 years old African Americans.                                                                                                                                                                                                                                                                                                                                                                                                                                                                                                                                                                                                                                                                                                                                                                                                                                                              \\\\\n",
       "\t pht001968.v1                                                                                                                                                                                                                                                                                                                                                                                                                                                                                                                                                                                                                                                                                                                                                                                                                                                                                                                                                                                  & PPAA                                                                                                                                                                                                                                                                                                                                                                                                                                                                                                                                                                                                                                                                                                                                                                                                                                                                                                                                                                                          & Post physical activity monitoring among participants of the Jackson Heart Study including adult 35-84 years old African Americans.                                                                                                                                                                                                                                                                                                                                                                                                                                                                                                                                                                                                                                                                                                                                                                                                                                                           \\\\\n",
       "\t pht001955.v1                                                                                                                                                                                                                                                                                                                                                                                                                                                                                                                                                                                                                                                                                                                                                                                                                                                                                                                                                                                  & ECHA                                                                                                                                                                                                                                                                                                                                                                                                                                                                                                                                                                                                                                                                                                                                                                                                                                                                                                                                                                                          & Echocardiographic abnormalities among participants of the Jackson Heart Study including adult 35-84 years old African Americans.                                                                                                                                                                                                                                                                                                                                                                                                                                                                                                                                                                                                                                                                                                                                                                                                                                                             \\\\\n",
       "\t pht001952.v1                                                                                                                                                                                                                                                                                                                                                                                                                                                                                                                                                                                                                                                                                                                                                                                                                                                                                                                                                                                  & DPASS\\_DIET1                                                                                                                                                                                                                                                                                                                                                                                                                                                                                                                                                                                                                                                                                                                                                                                                                                                                                                                                                                                 & Dietary data (DPASS) among participants of the Jackson Heart Study including adult 35-84 years old African Americans.                                                                                                                                                                                                                                                                                                                                                                                                                                                                                                                                                                                                                                                                                                                                                                                                                                                                        \\\\\n",
       "\\end{tabular}\n"
      ],
      "text/markdown": [
       "\n",
       "pht | dt_study_name | dt_label | \n",
       "|---|---|---|---|---|---|\n",
       "| pht002539.v2                                                                                                                                                                                                                                                                                                                                                                                                                                                                                                                                                                                                                                                                                                                                                                                                                                                                                                                                                                                  | ESP_HeartGO_JHS_Subject_Phenotypes                                                                                                                                                                                                                                                                                                                                                                                                                                                                                                                                                                                                                                                                                                                                                                                                                                                                                                                                                            | Subject ID, ESP cohort, target capture used in sequencing, sequence center, race, sex, affection status, family medical history of stroke, participant medical history of asthma and COPD, ankle brachial index, artery disease status, atrioventricular block, blood pressure, body weight, height and BMI, coronary artery calcium, EKG, Framingham Risk Score, intimal-medial thickness, laboratory tests including basophils, eosinophils, neutrophils, lymphocytes, lymphocytes, blood fasting insulin and glucose, level of C-reactive protein, LDL, HDL, triglycerides, uric acid, urinary creatinine, serum creatinine, menopause, MI, FEV1, FVC, stroke status, type 2 diabetes, Wolff-Parkinson-White pattern, hormone replacement therapy, and smoking status of subjects participated in the \"National Heart Lung and Blood Institute (NHLBI) GO-ESP: Heart Cohorts Component of the Exome Sequencing Project (JHS)\" sub study of the \"Jackson Heart Study (JHS) Cohort\" project. | \n",
       "| pht001948.v1                                                                                                                                                                                                                                                                                                                                                                                                                                                                                                                                                                                                                                                                                                                                                                                                                                                                                                                                                                                  | CSTA                                                                                                                                                                                                                                                                                                                                                                                                                                                                                                                                                                                                                                                                                                                                                                                                                                                                                                                                                                                          | Agatston score of all coronary section among participants of the Jackson Heart Study including adult 35-84 years old African Americans.                                                                                                                                                                                                                                                                                                                                                                                                                                                                                                                                                                                                                                                                                                                                                                                                                                                       | \n",
       "| pht001947.v1                                                                                                                                                                                                                                                                                                                                                                                                                                                                                                                                                                                                                                                                                                                                                                                                                                                                                                                                                                                  | CSIA                                                                                                                                                                                                                                                                                                                                                                                                                                                                                                                                                                                                                                                                                                                                                                                                                                                                                                                                                                                          | Approach to life B. Life style among participants of the Jackson Heart Study including adult 35-84 years old African Americans.                                                                                                                                                                                                                                                                                                                                                                                                                                                                                                                                                                                                                                                                                                                                                                                                                                                               | \n",
       "| pht001968.v1                                                                                                                                                                                                                                                                                                                                                                                                                                                                                                                                                                                                                                                                                                                                                                                                                                                                                                                                                                                  | PPAA                                                                                                                                                                                                                                                                                                                                                                                                                                                                                                                                                                                                                                                                                                                                                                                                                                                                                                                                                                                          | Post physical activity monitoring among participants of the Jackson Heart Study including adult 35-84 years old African Americans.                                                                                                                                                                                                                                                                                                                                                                                                                                                                                                                                                                                                                                                                                                                                                                                                                                                            | \n",
       "| pht001955.v1                                                                                                                                                                                                                                                                                                                                                                                                                                                                                                                                                                                                                                                                                                                                                                                                                                                                                                                                                                                  | ECHA                                                                                                                                                                                                                                                                                                                                                                                                                                                                                                                                                                                                                                                                                                                                                                                                                                                                                                                                                                                          | Echocardiographic abnormalities among participants of the Jackson Heart Study including adult 35-84 years old African Americans.                                                                                                                                                                                                                                                                                                                                                                                                                                                                                                                                                                                                                                                                                                                                                                                                                                                              | \n",
       "| pht001952.v1                                                                                                                                                                                                                                                                                                                                                                                                                                                                                                                                                                                                                                                                                                                                                                                                                                                                                                                                                                                  | DPASS_DIET1                                                                                                                                                                                                                                                                                                                                                                                                                                                                                                                                                                                                                                                                                                                                                                                                                                                                                                                                                                                   | Dietary data (DPASS) among participants of the Jackson Heart Study including adult 35-84 years old African Americans.                                                                                                                                                                                                                                                                                                                                                                                                                                                                                                                                                                                                                                                                                                                                                                                                                                                                         | \n",
       "\n",
       "\n"
      ],
      "text/plain": [
       "  pht          dt_study_name                     \n",
       "1 pht002539.v2 ESP_HeartGO_JHS_Subject_Phenotypes\n",
       "2 pht001948.v1 CSTA                              \n",
       "3 pht001947.v1 CSIA                              \n",
       "4 pht001968.v1 PPAA                              \n",
       "5 pht001955.v1 ECHA                              \n",
       "6 pht001952.v1 DPASS_DIET1                       \n",
       "  dt_label                                                                                                                                                                                                                                                                                                                                                                                                                                                                                                                                                                                                                                                                                                                                                                                                                                                                                                                                                                                     \n",
       "1 Subject ID, ESP cohort, target capture used in sequencing, sequence center, race, sex, affection status, family medical history of stroke, participant medical history of asthma and COPD, ankle brachial index, artery disease status, atrioventricular block, blood pressure, body weight, height and BMI, coronary artery calcium, EKG, Framingham Risk Score, intimal-medial thickness, laboratory tests including basophils, eosinophils, neutrophils, lymphocytes, lymphocytes, blood fasting insulin and glucose, level of C-reactive protein, LDL, HDL, triglycerides, uric acid, urinary creatinine, serum creatinine, menopause, MI, FEV1, FVC, stroke status, type 2 diabetes, Wolff-Parkinson-White pattern, hormone replacement therapy, and smoking status of subjects participated in the \"National Heart Lung and Blood Institute (NHLBI) GO-ESP: Heart Cohorts Component of the Exome Sequencing Project (JHS)\" sub study of the \"Jackson Heart Study (JHS) Cohort\" project.\n",
       "2 Agatston score of all coronary section among participants of the Jackson Heart Study including adult 35-84 years old African Americans.                                                                                                                                                                                                                                                                                                                                                                                                                                                                                                                                                                                                                                                                                                                                                                                                                                                      \n",
       "3 Approach to life B. Life style among participants of the Jackson Heart Study including adult 35-84 years old African Americans.                                                                                                                                                                                                                                                                                                                                                                                                                                                                                                                                                                                                                                                                                                                                                                                                                                                              \n",
       "4 Post physical activity monitoring among participants of the Jackson Heart Study including adult 35-84 years old African Americans.                                                                                                                                                                                                                                                                                                                                                                                                                                                                                                                                                                                                                                                                                                                                                                                                                                                           \n",
       "5 Echocardiographic abnormalities among participants of the Jackson Heart Study including adult 35-84 years old African Americans.                                                                                                                                                                                                                                                                                                                                                                                                                                                                                                                                                                                                                                                                                                                                                                                                                                                             \n",
       "6 Dietary data (DPASS) among participants of the Jackson Heart Study including adult 35-84 years old African Americans.                                                                                                                                                                                                                                                                                                                                                                                                                                                                                                                                                                                                                                                                                                                                                                                                                                                                        "
      ]
     },
     "metadata": {},
     "output_type": "display_data"
    }
   ],
   "source": [
    "tablesdict <- datatables.dict(JHS)\n",
    "head(tablesdict)"
   ]
  },
  {
   "cell_type": "markdown",
   "metadata": {},
   "source": [
    "#### variables.dict() will return a data frame with the variables IDs (phvxxxxxx), their name in the study, the datatable where they come from and their description\n",
    "(may takes even more time)"
   ]
  },
  {
   "cell_type": "code",
   "execution_count": 14,
   "metadata": {
    "collapsed": false
   },
   "outputs": [
    {
     "data": {
      "text/html": [
       "<table>\n",
       "<thead><tr><th scope=col>dt_study_name</th><th scope=col>phv</th><th scope=col>var_name</th><th scope=col>var_desc</th></tr></thead>\n",
       "<tbody>\n",
       "\t<tr><td>ESP_HeartGO_JHS_Subject_Phenotypes                                                                                                                                                                                                            </td><td>phv00165323.v2                                                                                                                                                                                                                                </td><td>SUBJID                                                                                                                                                                                                                                        </td><td>Subject ID                                                                                                                                                                                                                                    </td></tr>\n",
       "\t<tr><td>ESP_HeartGO_JHS_Subject_Phenotypes                                                                                                                                                                                                            </td><td>phv00165322.v2                                                                                                                                                                                                                                </td><td>ESP_Cohort                                                                                                                                                                                                                                    </td><td>Cohort name [JHS]                                                                                                                                                                                                                             </td></tr>\n",
       "\t<tr><td>ESP_HeartGO_JHS_Subject_Phenotypes                                                                                                                                                                                                            </td><td>phv00165324.v2                                                                                                                                                                                                                                </td><td>ESP_phenotype                                                                                                                                                                                                                                 </td><td>ESP Phenotype group (phenotype that the sample was selected to be sequenced for) [EOMI_Control (Early MI control), LDL_Low, LDL_High, BP_Low (low blood pressure); BP_High (high blood pressure); DPR (Deeply Phenotyped Reference); BMI_High]</td></tr>\n",
       "\t<tr><td>ESP_HeartGO_JHS_Subject_Phenotypes                                                                                                                                                                                                            </td><td>phv00181282.v1                                                                                                                                                                                                                                </td><td>Sequence_center                                                                                                                                                                                                                               </td><td>Indicates where the sample was sequence at [Broad, UW]                                                                                                                                                                                        </td></tr>\n",
       "\t<tr><td>ESP_HeartGO_JHS_Subject_Phenotypes                                                                                                                                                                                                            </td><td>phv00181283.v1                                                                                                                                                                                                                                </td><td>Target                                                                                                                                                                                                                                        </td><td>Indicates target capture used in sequencing                                                                                                                                                                                                   </td></tr>\n",
       "\t<tr><td>ESP_HeartGO_JHS_Subject_Phenotypes                                                                                                                                                                                                            </td><td>phv00181284.v1                                                                                                                                                                                                                                </td><td>ESP_race_selfreport                                                                                                                                                                                                                           </td><td>Self report race [African American]                                                                                                                                                                                                           </td></tr>\n",
       "</tbody>\n",
       "</table>\n"
      ],
      "text/latex": [
       "\\begin{tabular}{r|llll}\n",
       " dt\\_study\\_name & phv & var\\_name & var\\_desc\\\\\n",
       "\\hline\n",
       "\t ESP\\_HeartGO\\_JHS\\_Subject\\_Phenotypes                                                                                                                                                                                                     & phv00165323.v2                                                                                                                                                                                                                                 & SUBJID                                                                                                                                                                                                                                         & Subject ID                                                                                                                                                                                                                                    \\\\\n",
       "\t ESP\\_HeartGO\\_JHS\\_Subject\\_Phenotypes                                                                                                                                                                                                         & phv00165322.v2                                                                                                                                                                                                                                     & ESP\\_Cohort                                                                                                                                                                                                                                       & Cohort name {[}JHS{]}                                                                                                                                                                                                                             \\\\\n",
       "\t ESP\\_HeartGO\\_JHS\\_Subject\\_Phenotypes                                                                                                                                                                                                                     & phv00165324.v2                                                                                                                                                                                                                                                 & ESP\\_phenotype                                                                                                                                                                                                                                                & ESP Phenotype group (phenotype that the sample was selected to be sequenced for) {[}EOMI\\_Control (Early MI control), LDL\\_Low, LDL\\_High, BP\\_Low (low blood pressure); BP\\_High (high blood pressure); DPR (Deeply Phenotyped Reference); BMI\\_High{]}\\\\\n",
       "\t ESP\\_HeartGO\\_JHS\\_Subject\\_Phenotypes                                                                                                                                                                                                         & phv00181282.v1                                                                                                                                                                                                                                     & Sequence\\_center                                                                                                                                                                                                                                  & Indicates where the sample was sequence at {[}Broad, UW{]}                                                                                                                                                                                        \\\\\n",
       "\t ESP\\_HeartGO\\_JHS\\_Subject\\_Phenotypes                                                                                                                                                                                                     & phv00181283.v1                                                                                                                                                                                                                                 & Target                                                                                                                                                                                                                                         & Indicates target capture used in sequencing                                                                                                                                                                                                   \\\\\n",
       "\t ESP\\_HeartGO\\_JHS\\_Subject\\_Phenotypes                                                                                                                                                                                                         & phv00181284.v1                                                                                                                                                                                                                                     & ESP\\_race\\_selfreport                                                                                                                                                                                                                            & Self report race {[}African American{]}                                                                                                                                                                                                           \\\\\n",
       "\\end{tabular}\n"
      ],
      "text/markdown": [
       "\n",
       "dt_study_name | phv | var_name | var_desc | \n",
       "|---|---|---|---|---|---|\n",
       "| ESP_HeartGO_JHS_Subject_Phenotypes                                                                                                                                                                                                             | phv00165323.v2                                                                                                                                                                                                                                 | SUBJID                                                                                                                                                                                                                                         | Subject ID                                                                                                                                                                                                                                     | \n",
       "| ESP_HeartGO_JHS_Subject_Phenotypes                                                                                                                                                                                                             | phv00165322.v2                                                                                                                                                                                                                                 | ESP_Cohort                                                                                                                                                                                                                                     | Cohort name [JHS]                                                                                                                                                                                                                              | \n",
       "| ESP_HeartGO_JHS_Subject_Phenotypes                                                                                                                                                                                                             | phv00165324.v2                                                                                                                                                                                                                                 | ESP_phenotype                                                                                                                                                                                                                                  | ESP Phenotype group (phenotype that the sample was selected to be sequenced for) [EOMI_Control (Early MI control), LDL_Low, LDL_High, BP_Low (low blood pressure); BP_High (high blood pressure); DPR (Deeply Phenotyped Reference); BMI_High] | \n",
       "| ESP_HeartGO_JHS_Subject_Phenotypes                                                                                                                                                                                                             | phv00181282.v1                                                                                                                                                                                                                                 | Sequence_center                                                                                                                                                                                                                                | Indicates where the sample was sequence at [Broad, UW]                                                                                                                                                                                         | \n",
       "| ESP_HeartGO_JHS_Subject_Phenotypes                                                                                                                                                                                                             | phv00181283.v1                                                                                                                                                                                                                                 | Target                                                                                                                                                                                                                                         | Indicates target capture used in sequencing                                                                                                                                                                                                    | \n",
       "| ESP_HeartGO_JHS_Subject_Phenotypes                                                                                                                                                                                                             | phv00181284.v1                                                                                                                                                                                                                                 | ESP_race_selfreport                                                                                                                                                                                                                            | Self report race [African American]                                                                                                                                                                                                            | \n",
       "\n",
       "\n"
      ],
      "text/plain": [
       "  dt_study_name                      phv            var_name           \n",
       "1 ESP_HeartGO_JHS_Subject_Phenotypes phv00165323.v2 SUBJID             \n",
       "2 ESP_HeartGO_JHS_Subject_Phenotypes phv00165322.v2 ESP_Cohort         \n",
       "3 ESP_HeartGO_JHS_Subject_Phenotypes phv00165324.v2 ESP_phenotype      \n",
       "4 ESP_HeartGO_JHS_Subject_Phenotypes phv00181282.v1 Sequence_center    \n",
       "5 ESP_HeartGO_JHS_Subject_Phenotypes phv00181283.v1 Target             \n",
       "6 ESP_HeartGO_JHS_Subject_Phenotypes phv00181284.v1 ESP_race_selfreport\n",
       "  var_desc                                                                                                                                                                                                                                      \n",
       "1 Subject ID                                                                                                                                                                                                                                    \n",
       "2 Cohort name [JHS]                                                                                                                                                                                                                             \n",
       "3 ESP Phenotype group (phenotype that the sample was selected to be sequenced for) [EOMI_Control (Early MI control), LDL_Low, LDL_High, BP_Low (low blood pressure); BP_High (high blood pressure); DPR (Deeply Phenotyped Reference); BMI_High]\n",
       "4 Indicates where the sample was sequence at [Broad, UW]                                                                                                                                                                                        \n",
       "5 Indicates target capture used in sequencing                                                                                                                                                                                                   \n",
       "6 Self report race [African American]                                                                                                                                                                                                           "
      ]
     },
     "metadata": {},
     "output_type": "display_data"
    }
   ],
   "source": [
    "vardict <- variables.dict(JHS)\n",
    "head(vardict)"
   ]
  },
  {
   "cell_type": "markdown",
   "metadata": {},
   "source": [
    "Now that we have explore our datasets, let's use sandboxR in order to clean our variables, and to gather them into a tree that will be easier to use for researchers. Note that for chapter 3, we will need to move and create a lot of files on your environment. It will be easier to use on your local computer than in the Jupyterhub environment.\n",
    "\n",
    "## 3. Extract your study\n",
    "### 3.1. Export your data from dbGap\n",
    "In order to get your data from dbGap, you will need to request an access and to get a decryption key. This has to be done here: https://dbgap.ncbi.nlm.nih.gov/aa/wga.cgi?login=&page=login\n",
    "### 3.2. Decrypt your files\n",
    "We found that the decryption system from dbGap can be tricky. We created dbgap.decrypt() in order to easily decrypt the files that you have downloaded. Note that the \"files\" argument can be a file or a folder containing multiple encrypted files. Also, this function works only for Mac OS at this moment."
   ]
  },
  {
   "cell_type": "raw",
   "metadata": {},
   "source": [
    "key <- \"path/to/your/key.ngc\"\n",
    "files <- \"path/to/the/files/you/want/to/decrypt.ncbi_enc\"\n",
    "dbgap.decrypt(file, key)"
   ]
  }
 ],
 "metadata": {
  "kernelspec": {
   "display_name": "R",
   "language": "R",
   "name": "ir"
  },
  "language_info": {
   "codemirror_mode": "r",
   "file_extension": ".r",
   "mimetype": "text/x-r-source",
   "name": "R",
   "pygments_lexer": "r",
   "version": "3.4.1"
  }
 },
 "nbformat": 4,
 "nbformat_minor": 2
}
